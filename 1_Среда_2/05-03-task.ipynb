{
 "cells": [
  {
   "cell_type": "markdown",
   "id": "2173db08-dd69-4e69-b81a-221a5bbbfc2d",
   "metadata": {
    "tags": []
   },
   "source": [
    "# Неделя 2. Среда \n",
    "\n",
    "## Математический анализ"
   ]
  },
  {
   "cell_type": "code",
   "execution_count": 821,
   "id": "96f9df0c-a134-4218-835b-20242049104e",
   "metadata": {},
   "outputs": [],
   "source": [
    "# Имортируй библиотеки\n",
    "import matplotlib.pyplot as plt\n",
    "plt.rcParams['figure.dpi'] = 100\n",
    "import numpy as np"
   ]
  },
  {
   "cell_type": "markdown",
   "id": "441254bf-ad80-4605-ba3f-4e5d8039e4e0",
   "metadata": {
    "tags": []
   },
   "source": [
    "### Анализ"
   ]
  },
  {
   "cell_type": "markdown",
   "id": "78b315a1-3e8d-496a-913e-c4bec7da59d0",
   "metadata": {},
   "source": [
    "❓Что значит, что производная в точке равна нулю? "
   ]
  },
  {
   "cell_type": "markdown",
   "id": "591cb891-e864-4bc6-b426-f2d251301847",
   "metadata": {},
   "source": [
    "> Это означает, что это точка минимума или максимума функции, либо точка перегиба"
   ]
  },
  {
   "cell_type": "markdown",
   "id": "2c7f8ae9-0c53-4c37-bf55-c7aa5da68dc0",
   "metadata": {},
   "source": [
    "Найдите производную функций ниже"
   ]
  },
  {
   "cell_type": "markdown",
   "id": "f98a7632-9bca-4029-9bb3-89e102c5e73c",
   "metadata": {},
   "source": [
    "1. $y = \\dfrac{3x^7}{7}$"
   ]
  },
  {
   "cell_type": "markdown",
   "id": "43624981-4f74-44d5-8b0b-520599dc6c24",
   "metadata": {},
   "source": [
    "$y' =3x^6$"
   ]
  },
  {
   "cell_type": "markdown",
   "id": "f83c2250-6b29-40e3-be2d-a3e3d59378c4",
   "metadata": {},
   "source": [
    "2. $y = -7$"
   ]
  },
  {
   "cell_type": "markdown",
   "id": "e46d0bc9-7f40-40c1-949a-a536d25ceec5",
   "metadata": {},
   "source": [
    "$y' = {0}$"
   ]
  },
  {
   "cell_type": "markdown",
   "id": "24b6b95b-2655-4289-9307-dc9e8293ce60",
   "metadata": {},
   "source": [
    "3. $y = \\dfrac{9}{x}$"
   ]
  },
  {
   "cell_type": "markdown",
   "id": "0d232268-070e-4d41-a16b-5f9952b82db6",
   "metadata": {},
   "source": [
    "$y' = \\dfrac{-9}{x^2}$"
   ]
  },
  {
   "cell_type": "markdown",
   "id": "9efee60b-1d35-4c6f-ae55-3a4af61ccde7",
   "metadata": {},
   "source": [
    "4. $y = 11 - 6x$"
   ]
  },
  {
   "cell_type": "markdown",
   "id": "e548290a-4ebf-4b7d-a1a6-f95dbd722165",
   "metadata": {},
   "source": [
    "$y' = -6$"
   ]
  },
  {
   "cell_type": "markdown",
   "id": "3f5e1af2-6306-4005-885c-6bd26c8f8449",
   "metadata": {},
   "source": [
    "5. $y = 8\\sqrt{x} + 7\\sin{x}$"
   ]
  },
  {
   "cell_type": "markdown",
   "id": "b0bfe2a0-1e58-4e5c-8c8d-aee0227f4f09",
   "metadata": {},
   "source": [
    "$y' = \\dfrac{4}{\\sqrt{x}}+7cos{x}$"
   ]
  },
  {
   "cell_type": "markdown",
   "id": "eeb10783-f0a4-4afb-9bcd-162cba102b0d",
   "metadata": {},
   "source": [
    "6. $y = \\dfrac{\\sin{x}}{5x}$"
   ]
  },
  {
   "cell_type": "markdown",
   "id": "aa902b86-4066-4b3d-8d2c-307c1379948f",
   "metadata": {},
   "source": [
    "$y' = \\dfrac{xcosx-sinx}{5x^2}$"
   ]
  },
  {
   "cell_type": "markdown",
   "id": "48f32a55-b110-49c9-9ab5-2b46aceeae3f",
   "metadata": {},
   "source": [
    "7. $y = \\dfrac{\\cot{x} + 2}{3x}$"
   ]
  },
  {
   "cell_type": "markdown",
   "id": "00f15010-f277-4d4c-abf5-e1fcfbf64502",
   "metadata": {},
   "source": [
    "$y' = \\dfrac{-x*sinx-cosx-2}{3x^2}$"
   ]
  },
  {
   "cell_type": "markdown",
   "id": "1ed62912-9712-45b7-b176-98c077c38f30",
   "metadata": {},
   "source": [
    "8. $y = (3-7x)^9$"
   ]
  },
  {
   "cell_type": "markdown",
   "id": "adb7ee9b-fb66-4a49-8e06-c184187d2f67",
   "metadata": {},
   "source": [
    "$y' = -63*(3-7x)^8$"
   ]
  },
  {
   "cell_type": "markdown",
   "id": "996c07d7-8df2-4869-beaa-d2716df396d4",
   "metadata": {},
   "source": [
    "9. Найдите производную в точке $t = 3$:\n",
    "\n",
    "$y(t) = t^6 - 4t^3$"
   ]
  },
  {
   "cell_type": "markdown",
   "id": "b28d51d6-8674-4c7d-bf97-771613ae0cc1",
   "metadata": {},
   "source": [
    "$y'(3) = -1350$"
   ]
  },
  {
   "cell_type": "markdown",
   "id": "c505ff62-e3f2-47e9-8fff-363951225686",
   "metadata": {},
   "source": [
    "<img src=\"https://icons.iconarchive.com/icons/icons8/windows-8/256/Programming-Github-icon.png\" width=32 /> Пора сохранить изменения для __github__. \n",
    "\n",
    "1. Перейди в командной строке в папку, в которой расположен этот нотбук. \n",
    "2. Выполни команду `git add .`\n",
    "3. Выполни команду `git commit -m \"calculus tasks in progress\"`\n",
    "4. Выполни команду `git push`"
   ]
  },
  {
   "cell_type": "markdown",
   "id": "f43c7228-affc-4d7d-844f-a54cbb601bff",
   "metadata": {
    "tags": []
   },
   "source": [
    "### Градиентный спуск"
   ]
  },
  {
   "cell_type": "markdown",
   "id": "ffb41147-8055-45e0-a322-481d0da7047b",
   "metadata": {
    "tags": []
   },
   "source": [
    "#### 1. Градиентный спуск функции одного переменного"
   ]
  },
  {
   "cell_type": "markdown",
   "id": "a4eb35ff-1235-461b-a86f-bade29046209",
   "metadata": {},
   "source": [
    "1. Задай функцию `loss`: она будет возвращать значение функции в точке. Для начала можно использовать простую функцию, например: \n",
    "$$L(\\omega) = \\omega^2 + 3$$"
   ]
  },
  {
   "cell_type": "code",
   "execution_count": 822,
   "id": "bcbb6360-3c83-47d2-a6c5-611e9d912973",
   "metadata": {},
   "outputs": [
    {
     "name": "stdout",
     "output_type": "stream",
     "text": [
      "12\n",
      "39\n"
     ]
    }
   ],
   "source": [
    "def loss(w):\n",
    "    loss=w**2+3\n",
    "    return loss\n",
    "print(loss(3))\n",
    "print(loss(6))"
   ]
  },
  {
   "cell_type": "markdown",
   "id": "8753a12a-826c-406a-9ca1-909c7f72cd7b",
   "metadata": {},
   "source": [
    "2. Задай функцию `derivative` - она будет возвращать значение производной функции `loss` в точке. "
   ]
  },
  {
   "cell_type": "code",
   "execution_count": 823,
   "id": "23554649-1790-4d8b-960e-b8aadc219256",
   "metadata": {},
   "outputs": [
    {
     "name": "stdout",
     "output_type": "stream",
     "text": [
      "6\n"
     ]
    }
   ],
   "source": [
    "def derivative(w):\n",
    "    derivative=2*w\n",
    "    return derivative\n",
    "print(derivative(3))"
   ]
  },
  {
   "cell_type": "markdown",
   "id": "07b82bb8-912b-448e-8def-f70f531f4fee",
   "metadata": {},
   "source": [
    "3. Задай функцию `step` - она будет возвращать новое значение весов по формуле:\n",
    "$$w_{i+1} = w_i - \\lambda \\cdot \\frac{\\partial f(w)}{\\partial w_i}$$\n",
    "\n",
    "Входные аргументы: `w` - текущее значение параметра, `lambda` – скорость спуска. "
   ]
  },
  {
   "cell_type": "code",
   "execution_count": 824,
   "id": "24c05da5-88ff-4fea-ac0d-0d366396cb7e",
   "metadata": {},
   "outputs": [],
   "source": [
    "def step(w, _lambda): \n",
    "    gradient = 2*w\n",
    "    coord=w-_lambda*gradient\n",
    "    loss_value=2*coord\n",
    "    '''\n",
    "    input:\n",
    "        _lambda - learning rate\n",
    "    \n",
    "    returns: \n",
    "        coord - w_coord\n",
    "        loss_value  - y_coord\n",
    "    '''\n",
    "    \n",
    "    return coord, loss_value"
   ]
  },
  {
   "cell_type": "markdown",
   "id": "1574a96b-8b8d-4745-8c5f-b5e0e74b995d",
   "metadata": {},
   "source": [
    "4. Задай функцию `get_minima`, которая будет возвращать список, содержащий все значения параметра `w`, и список `loss_values`, который будет содержать значения функции `loss` для соответствующего параметра `w`. На вход функции поступает `w_0` – начальное значение параметра, `eps` – критерий останова. `lambda` - скорость спуска, которая будет передаваться в функцию `step`"
   ]
  },
  {
   "cell_type": "code",
   "execution_count": 825,
   "id": "356718cb-2b22-4634-a8a2-530151575eb6",
   "metadata": {},
   "outputs": [
    {
     "name": "stdout",
     "output_type": "stream",
     "text": [
      "Final value of w: 0.0\n",
      "Loss values: [3.0, 0.0, 0.0]\n"
     ]
    }
   ],
   "source": [
    "def get_minima(w_0, eps, _lambda): \n",
    "    w=w_0\n",
    "    loss_values=[w**2+3]\n",
    "    loss=loss_values[0]\n",
    "    while True:\n",
    "        new_w,new_loss=step(w,_lambda)\n",
    "        loss_values.append(new_loss)\n",
    "        if abs(new_loss-loss)<eps:\n",
    "            break\n",
    "        w=new_w\n",
    "        loss=new_loss\n",
    "    return w, loss_values\n",
    "# Начальное значение параметра\n",
    "w_0 = 0.0\n",
    "\n",
    "# Критерий останова (когда изменение потерь станет меньше eps)\n",
    "eps = 1e-5\n",
    "\n",
    "# Скорость обучения\n",
    "_lambda = 0.1\n",
    "\n",
    "# Получаем минимальные значения\n",
    "final_w, loss_values = get_minima(w_0, eps, _lambda)\n",
    "\n",
    "# Выводим результаты\n",
    "print(\"Final value of w:\", final_w)\n",
    "print(\"Loss values:\", loss_values)"
   ]
  },
  {
   "cell_type": "markdown",
   "id": "8dd5e2fe-775a-46dd-a994-25937b50fd22",
   "metadata": {},
   "source": [
    "Нарисуй график функции `loss`. По координатам, возвращенным функцией `get_minima` нарисуй график движения градиентного спуска. "
   ]
  },
  {
   "cell_type": "code",
   "execution_count": 826,
   "id": "3195fd33-0c66-47cb-939a-06ef44c8c6fe",
   "metadata": {},
   "outputs": [
    {
     "data": {
      "image/png": "[encoded data removed]",
      "text/plain": [
       "<Figure size 1000x600 with 1 Axes>"
      ]
     },
     "metadata": {},
     "output_type": "display_data"
    }
   ],
   "source": [
    "import matplotlib.pyplot as plt\n",
    "\n",
    "# Реализация функции step\n",
    "def step(w, _lambda):\n",
    "    # Прямое вычисление градиента для функции потерь f(w) = (w - 3)^2\n",
    "    gradient = 2 * (w - 3)  # Градиент для (w - 3)^2\n",
    "    \n",
    "    # Обновляем веса\n",
    "    coord = w - _lambda * gradient\n",
    "    \n",
    "    # Вычисляем значение функции потерь после обновления весов\n",
    "    loss_value = (coord - 3) ** 2  # Значение потерь для (w - 3)^2\n",
    "    \n",
    "    return coord, loss_value\n",
    "\n",
    "# Реализация функции get_minima\n",
    "def get_minima(w_0, eps, _lambda):\n",
    "    w = w_0\n",
    "    loss_values = [w**2+3]  # Начальное значение функции потерь для w_0\n",
    "    \n",
    "    loss = loss_values[0]\n",
    "    \n",
    "    # Список для хранения координат\n",
    "    w_values = [w]\n",
    "    \n",
    "    while True:\n",
    "        # Выполняем один шаг градиентного спуска\n",
    "        new_w, new_loss = step(w, _lambda)\n",
    "        \n",
    "        # Добавляем новые значения в списки\n",
    "        w_values.append(new_w)\n",
    "        loss_values.append(new_loss)\n",
    "        \n",
    "        # Проверяем условие остановки\n",
    "        if abs(new_loss - loss) < eps:\n",
    "            break\n",
    "        \n",
    "        # Обновляем текущие значения для следующей итерации\n",
    "        w = new_w\n",
    "        loss = new_loss\n",
    "    \n",
    "    return w_values, loss_values\n",
    "\n",
    "# Параметры\n",
    "w_0 = 0.0  # Начальное значение параметра\n",
    "eps = 1e-5  # Критерий остановки\n",
    "_lambda = 0.1  # Скорость обучения\n",
    "\n",
    "# Получаем минимальные значения\n",
    "w_values, loss_values = get_minima(w_0, eps, _lambda)\n",
    "\n",
    "# Строим график функции потерь и путь градиентного спуска\n",
    "x = w_values\n",
    "y = loss_values\n",
    "\n",
    "# Создаем график\n",
    "plt.figure(figsize=(10, 6))\n",
    "\n",
    "# График функции потерь\n",
    "w_plot = [i for i in range(-10, 15)]  # Точки для графика функции потерь\n",
    "loss_plot = [(i - 3) ** 2 for i in w_plot]  # Потери для этих точек\n",
    "plt.plot(w_plot, loss_plot, label=\"Loss Function $w^2+3$\", color='blue')\n",
    "\n",
    "# График пути градиентного спуска\n",
    "plt.plot(x, y, marker='o', label=\"Gradient Descent Path\", color='red')\n",
    "\n",
    "# Настроим оси и подписи\n",
    "plt.title(\"Gradient Descent Path on Loss Function\")\n",
    "plt.xlabel(\"Parameter w\")\n",
    "plt.ylabel(\"Loss Value\")\n",
    "plt.legend()\n",
    "plt.grid(True)\n",
    "\n",
    "# Покажем график\n",
    "plt.show()"
   ]
  },
  {
   "cell_type": "markdown",
   "id": "38c4e29b-329f-49e6-9599-ba14ddef6902",
   "metadata": {},
   "source": [
    "Нарисуй несколько графиков, соответствующих разным коэффициентам $\\lambda$. "
   ]
  },
  {
   "cell_type": "code",
   "execution_count": 827,
   "id": "61ddfbb2-9869-4d3f-97e3-e2c96a03b2dd",
   "metadata": {},
   "outputs": [],
   "source": [
    "# code"
   ]
  },
  {
   "cell_type": "markdown",
   "id": "2246df41-4da6-4217-adc0-2437f36887dc",
   "metadata": {},
   "source": [
    "❓ Как выбрать оптимальную скорость обучения?"
   ]
  },
  {
   "cell_type": "markdown",
   "id": "06459c09-f216-4fb5-970d-e6f27f1082af",
   "metadata": {},
   "source": [
    "> _ответ тут_"
   ]
  },
  {
   "cell_type": "markdown",
   "id": "576ec78b-e052-4e4d-b16a-3c8ef22adb58",
   "metadata": {},
   "source": [
    "❓Будет ли зависеть скорость работы всей процедуры от начального выбора значения искомого параметра?"
   ]
  },
  {
   "cell_type": "markdown",
   "id": "a5a97721-4571-46bd-ba27-ace6c5e0b83b",
   "metadata": {},
   "source": [
    "> ответ тут"
   ]
  },
  {
   "cell_type": "markdown",
   "id": "2bc32906-fb0c-41ba-82ca-ec05d5341e0d",
   "metadata": {},
   "source": [
    "Поэкспериментируй с результатом, задай функцию: \n",
    "$$L(\\omega) = \\omega^2 - \\omega$$"
   ]
  },
  {
   "cell_type": "code",
   "execution_count": 828,
   "id": "2c544acf-bc08-4007-99cb-56e121b52be3",
   "metadata": {},
   "outputs": [],
   "source": [
    "# code"
   ]
  },
  {
   "cell_type": "markdown",
   "id": "abe9a567-4635-4e60-a3f6-3ec9f4bee7ad",
   "metadata": {},
   "source": [
    "#### 2. Градиентный спуск для функции двух переменных"
   ]
  },
  {
   "cell_type": "markdown",
   "id": "a17ac4ae-38bf-458c-b7d6-1bd23f715188",
   "metadata": {},
   "source": [
    "1. Модифицируй функции из предыдущего задания и реализуй поиск минимума функции двух переменных. \n",
    "Функция для минимизации: \n",
    "$$\\mathcal{L} (\\omega_1, \\omega_2) = \\omega_1^2 + 2\\omega_2^2 - 3\\omega_1 - 4\\omega_2$$\n",
    "\n",
    "В конце визуализируй результат аналогично предыдущему заданию.\n",
    "\n",
    "\n",
    "__P.S__: для данной функции, минимальное значение достигается в точке $(\\dfrac{3}{2}; 1)$. Это необходимо для самопроверки"
   ]
  },
  {
   "cell_type": "code",
   "execution_count": 1,
   "id": "ab8fe56b-204c-4d14-b37c-17d76329db41",
   "metadata": {},
   "outputs": [],
   "source": [
    "def loss2(w):\n",
    "    w_1, w_2, *_ = ws\n",
    "    return loss"
   ]
  },
  {
   "cell_type": "code",
   "execution_count": 4,
   "id": "14726a8d-c169-4f5b-890d-8dbfade62291",
   "metadata": {},
   "outputs": [],
   "source": [
    "def derivative2(w):\n",
    "    w_1, w_2, *_ = ws\n",
    "    deriv_1 = 2*w_1 - 3\n",
    "    deriv_2 = 4*w_2 - 4\n",
    "    return deriv"
   ]
  },
  {
   "cell_type": "code",
   "execution_count": 9,
   "id": "71091e5e-2007-488b-9265-7d90ce666116",
   "metadata": {},
   "outputs": [],
   "source": [
    "def step(w, _lambda):\n",
    "    w_1, w_2, *_ = ws\n",
    "    coord_1 = w_1 - _lambda * derivative(w_1)\n",
    "    coord_2 = w_2 - _lambda * derivative(w_2)\n",
    "    coords = np.array([coord_1, coord_2])\n",
    "    loss_value = loss2(coords)\n",
    "    \n",
    "    return coord, loss_value"
   ]
  },
  {
   "cell_type": "markdown",
   "id": "67fa1f64-117d-4702-bc81-e491ff10c776",
   "metadata": {},
   "source": [
    "2. С помощью градиентного _спуска_ можно найти и __максимум__ функции, для этого нужно внести небольшое изменение в формулу обновления весов. Попробуйте сделать это и визуализировать результат: \n",
    "$$L(w_1, w_2) = \\dfrac{1}{1+w_1^2} + \\dfrac{1}{1+w_2^2}$$  \n",
    "\n",
    "\n",
    "__P.S__: для данной функции, максимальное значение достигается в точке $(0; 0)$. Это необходимо для самопроверки"
   ]
  },
  {
   "cell_type": "code",
   "execution_count": 10,
   "id": "b352220e-1ad2-4c25-b67c-78837fe4a851",
   "metadata": {},
   "outputs": [
    {
     "ename": "NameError",
     "evalue": "name 'get_minima2' is not defined",
     "output_type": "error",
     "traceback": [
      "\u001b[0;31m---------------------------------------------------------------------------\u001b[0m",
      "\u001b[0;31mNameError\u001b[0m                                 Traceback (most recent call last)",
      "Cell \u001b[0;32mIn[10], line 8\u001b[0m\n\u001b[1;32m      5\u001b[0m     \u001b[38;5;28;01mreturn\u001b[39;00m w_1\u001b[38;5;241m*\u001b[39m\u001b[38;5;241m*\u001b[39m\u001b[38;5;241m2\u001b[39m \u001b[38;5;241m+\u001b[39m \u001b[38;5;241m2\u001b[39m\u001b[38;5;241m*\u001b[39mw_2\u001b[38;5;241m*\u001b[39m\u001b[38;5;241m*\u001b[39m\u001b[38;5;241m2\u001b[39m \u001b[38;5;241m-\u001b[39m \u001b[38;5;241m3\u001b[39m\u001b[38;5;241m*\u001b[39mw_1 \u001b[38;5;241m-\u001b[39m \u001b[38;5;241m4\u001b[39m\u001b[38;5;241m*\u001b[39mw_2\n\u001b[1;32m      7\u001b[0m \u001b[38;5;66;03m# Given gradient descent path\u001b[39;00m\n\u001b[0;32m----> 8\u001b[0m wx, loss \u001b[38;5;241m=\u001b[39m \u001b[43mget_minima2\u001b[49m([\u001b[38;5;241m3\u001b[39m,\u001b[38;5;241m2\u001b[39m], \u001b[38;5;241m0.3\u001b[39m, \u001b[38;5;241m0.1\u001b[39m)\n\u001b[1;32m     10\u001b[0m \u001b[38;5;66;03m# Extract descent path points\u001b[39;00m\n\u001b[1;32m     11\u001b[0m w0_path \u001b[38;5;241m=\u001b[39m [w[\u001b[38;5;241m0\u001b[39m] \u001b[38;5;28;01mfor\u001b[39;00m w \u001b[38;5;129;01min\u001b[39;00m wx]\n",
      "\u001b[0;31mNameError\u001b[0m: name 'get_minima2' is not defined"
     ]
    }
   ],
   "source": [
    "\n"
   ]
  },
  {
   "cell_type": "markdown",
   "id": "9a49b4e4-4ee4-4205-a1a2-2f60ec91214f",
   "metadata": {},
   "source": [
    "3. С помощью градиентного спуска найти минимум функции и визуализировать результат. Незабывайте, код у вас уже реализован в предыдущих заданиях, примените его.  \n",
    "$$L(w1, w2) = (5 \\cdot \\omega_1)^2 + \\omega_2^2$$"
   ]
  },
  {
   "cell_type": "code",
   "execution_count": 833,
   "id": "f440c095-8b23-450b-855a-1a1912278fde",
   "metadata": {},
   "outputs": [],
   "source": [
    "# code"
   ]
  },
  {
   "cell_type": "markdown",
   "id": "02d9e607-2710-41d4-9d4b-3d222d93c507",
   "metadata": {},
   "source": [
    "<img src=\"https://icons.iconarchive.com/icons/icons8/windows-8/256/Programming-Github-icon.png\" width=32 /> Пора сохранить изменения для __github__. \n",
    "\n",
    "1. Перейди в командной строке в папку, в которой расположен этот нотбук. \n",
    "2. Выполни команду `git add .`\n",
    "3. Выполни команду `git commit -m \"calculus tasks stage 2\"`\n",
    "4. Выполни команду `git push`"
   ]
  },
  {
   "cell_type": "markdown",
   "id": "bb04962b-1b2e-4f0b-b428-dfb279d9e014",
   "metadata": {},
   "source": [
    "#### Адаптивная скорость обучения\n",
    "\n",
    "Модифицируй одну из предыдущих реализаций, добавив [адаптивный подбор скорости обучения](https://en.wikipedia.org/wiki/Learning_rate) (time-based, step-based, exponential)"
   ]
  },
  {
   "cell_type": "code",
   "execution_count": 834,
   "id": "f35bb4ea-61cf-4b11-932b-6fa3bbe78ead",
   "metadata": {},
   "outputs": [],
   "source": [
    "# code"
   ]
  },
  {
   "cell_type": "markdown",
   "id": "516e25b5",
   "metadata": {},
   "source": [
    "#### Решение системы линейных уравнений с помощью градиентного спуска\n",
    "\n",
    "\n",
    "Реализуй класс `Solver` для вычисления решения системы линейных уравнений произвольного размера.  \n",
    "\n",
    "Логика работы класса должна быть следующей: \n",
    "\n",
    "```python\n",
    "\n",
    "solver = Solver(X, y)\n",
    "solver.fit(learning_rate=0.01, n_iter=10)\n",
    "print(solver.mse())\n",
    ">>> Mean squared error: 0.00313\n",
    "print(solver.coef_)\n",
    ">>> [.5, 1, -2]\n",
    "\n",
    "```\n",
    "\n",
    "`X` – матрица системы\n",
    "\n",
    "`y` – вектор ответов\n",
    "\n",
    "`learning_rate` – шаг градинтного спуска\n",
    "\n",
    "`n_iter` - число итераций. \n",
    "\n",
    "Метод `mse` вычисляет среднеквадратическую ошибку: `sum((y - X@w)**2) / len(w)`, где `w` - искомый вектор коэффициентов. \n",
    "\n",
    "Попробуй решить с помощью реализованного класса систему уравнений:\n",
    "$$\n",
    "\\begin{cases}\n",
    "2w_1 + 3w_2 - w_3 = 9 \\\\\n",
    "w_1 -2w_2 + w_3 = 3 \\\\\n",
    "w_1 + 2w_3 = 2\n",
    "\\end{cases}\n",
    "$$\n",
    "\n",
    "Решение уравнения выше – 4, 0, -1. Значения, которые ты получишь в процессе оптимизации могут незначительно отличаться. \n"
   ]
  },
  {
   "cell_type": "code",
   "execution_count": 835,
   "id": "48d9b972",
   "metadata": {},
   "outputs": [],
   "source": [
    "X = np.array([\n",
    "    [2, 3, -1], \n",
    "    [1, -2, 1],\n",
    "    [1, 0, 2]\n",
    "])\n",
    "\n",
    "y = np.array([9, 3, 2])"
   ]
  },
  {
   "cell_type": "code",
   "execution_count": 836,
   "id": "750de713",
   "metadata": {},
   "outputs": [],
   "source": [
    "# code"
   ]
  },
  {
   "cell_type": "code",
   "execution_count": 837,
   "id": "fc914537",
   "metadata": {},
   "outputs": [
    {
     "ename": "NameError",
     "evalue": "name 'Solver' is not defined",
     "output_type": "error",
     "traceback": [
      "\u001b[0;31m---------------------------------------------------------------------------\u001b[0m",
      "\u001b[0;31mNameError\u001b[0m                                 Traceback (most recent call last)",
      "Cell \u001b[0;32mIn[837], line 1\u001b[0m\n\u001b[0;32m----> 1\u001b[0m solver \u001b[38;5;241m=\u001b[39m \u001b[43mSolver\u001b[49m(X, y)\n\u001b[1;32m      2\u001b[0m solver\u001b[38;5;241m.\u001b[39mfit(\u001b[38;5;241m0.1\u001b[39m, \u001b[38;5;241m100\u001b[39m)\n\u001b[1;32m      3\u001b[0m solver\u001b[38;5;241m.\u001b[39mmse()\n",
      "\u001b[0;31mNameError\u001b[0m: name 'Solver' is not defined"
     ]
    }
   ],
   "source": [
    "solver = Solver(X, y)\n",
    "solver.fit(0.1, 100)\n",
    "solver.mse()"
   ]
  },
  {
   "cell_type": "markdown",
   "id": "a6a9c32d-5b0b-485d-b5a0-69904ad792cb",
   "metadata": {},
   "source": [
    "#### Реализация класса оптимизатора\n",
    "\n",
    "Реализуй класс, который `Optimizer`, который будет решать задачу минимизации функции, сохранения истории процедуры, визуализации и возможностью выбирать один из типов управления скоростью обучения. Добавь возможность задания параметра для реализации остановки. "
   ]
  },
  {
   "cell_type": "code",
   "execution_count": 8,
   "id": "9a15cc27-2eef-4da8-86cd-021192781dd3",
   "metadata": {},
   "outputs": [],
   "source": [
    "class Optimizer():\n",
    "    pass"
   ]
  },
  {
   "cell_type": "markdown",
   "id": "e45ff4ae-03e5-451f-a9a1-8f87240e2c85",
   "metadata": {},
   "source": [
    "<img src=\"https://icons.iconarchive.com/icons/icons8/windows-8/256/Programming-Github-icon.png\" width=32 /> Сохрани файл для __github__. \n",
    "\n",
    "1. Перейди в командной строке в папку, в которой расположен этот нотбук. \n",
    "2. Выполни команду `git add .`\n",
    "3. Выполни команду `git commit -m \"calculus tasks completed\"`\n",
    "4. Выполни команду `git push`"
   ]
  }
 ],
 "metadata": {
  "kernelspec": {
   "display_name": "base",
   "language": "python",
   "name": "python3"
  },
  "language_info": {
   "codemirror_mode": {
    "name": "ipython",
    "version": 3
   },
   "file_extension": ".py",
   "mimetype": "text/x-python",
   "name": "python",
   "nbconvert_exporter": "python",
   "pygments_lexer": "ipython3",
   "version": "3.12.8"
  }
 },
 "nbformat": 4,
 "nbformat_minor": 5
}
