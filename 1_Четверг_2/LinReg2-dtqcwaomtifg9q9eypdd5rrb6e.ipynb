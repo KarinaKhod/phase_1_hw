{
 "cells": [
  {
   "cell_type": "code",
   "execution_count": 1,
   "id": "effae80f-96d1-4e31-8cd6-be105dee8d41",
   "metadata": {},
   "outputs": [],
   "source": [
    "import numpy as np\n",
    "import pandas as pd\n",
    "import matplotlib.pyplot as plt\n",
    "from sklearn.preprocessing import StandardScaler"
   ]
  },
  {
   "cell_type": "code",
   "execution_count": 2,
   "id": "cce24cef-f909-4211-add6-297764e981a9",
   "metadata": {},
   "outputs": [],
   "source": [
    "def lin_reg(x, y, lr=0.1, n_epochs=10):\n",
    "    w_actual = np.random.randint(-4, 4, size=2)\n",
    "    loss_actual = None\n",
    "    print(f\"start weight: {w_actual}\")\n",
    "    for epoch in range(n_epochs):\n",
    "        w_new = step(x, y, w_actual, lr)\n",
    "        w_actual = w_new\n",
    "        loss_actual = loss(x, y, w_actual)\n",
    "        print(f\"epoch: {epoch+1} new weight: {w_actual} loss: {loss_actual.round(2)}\")\n",
    "    return w_actual, loss_actual"
   ]
  },
  {
   "cell_type": "code",
   "execution_count": 3,
   "id": "bb68ec07-8f1c-44da-baaa-75bc67a59ffc",
   "metadata": {},
   "outputs": [],
   "source": [
    "def grad_2(x, y, w):\n",
    "    y_pred = x * w[1] + w[0]\n",
    "    der_w0 = (-2*(y - y_pred)).mean()    \n",
    "    der_w1 = (-2*x*(y - y_pred)).mean()   \n",
    "    return np.array([der_w0, der_w1])"
   ]
  },
  {
   "cell_type": "code",
   "execution_count": 4,
   "id": "16b49e1b-654d-4037-85b8-9d5a7c5142c7",
   "metadata": {},
   "outputs": [],
   "source": [
    "def step(x, y, w, lr):\n",
    "    return w - lr*grad_2(x, y, w)"
   ]
  },
  {
   "cell_type": "code",
   "execution_count": 5,
   "id": "79254942-c03b-491d-ab7b-65d9b6147929",
   "metadata": {},
   "outputs": [],
   "source": [
    "def loss(x, y, w):  # w --> array\n",
    "    y_pred = x * w[1] + w[0]\n",
    "    return ((y - y_pred)**2).mean()"
   ]
  },
  {
   "cell_type": "code",
   "execution_count": 13,
   "id": "690eb59c-3693-41c4-b81e-5adb6b98d92e",
   "metadata": {},
   "outputs": [],
   "source": [
    "x = np.linspace(-5, 5, 200)\n",
    "y = -1*x + 3 + np.random.normal(0, 1, size=200)"
   ]
  },
  {
   "cell_type": "code",
   "execution_count": 14,
   "id": "cc9fa212-032c-4d76-8486-28a5c5382c88",
   "metadata": {},
   "outputs": [
    {
     "data": {
      "text/plain": [
       "<matplotlib.collections.PathCollection at 0x1c8874bb920>"
      ]
     },
     "execution_count": 14,
     "metadata": {},
     "output_type": "execute_result"
    },
    {
     "data": {
      "image/png": "[encoded data removed]",
      "text/plain": [
       "<Figure size 640x480 with 1 Axes>"
      ]
     },
     "metadata": {},
     "output_type": "display_data"
    }
   ],
   "source": [
    "plt.scatter(x, y)"
   ]
  },
  {
   "cell_type": "code",
   "execution_count": 15,
   "id": "3cd85fcc-7cec-4490-95d1-c5aaf3d90111",
   "metadata": {},
   "outputs": [
    {
     "name": "stdout",
     "output_type": "stream",
     "text": [
      "start weight: [3 0]\n",
      "epoch: 1 new weight: [ 3.00094666 -0.08169622] loss: 7.62\n",
      "epoch: 2 new weight: [ 3.00188386 -0.156516  ] loss: 6.54\n",
      "epoch: 3 new weight: [ 3.00281169 -0.22503813] loss: 5.64\n",
      "epoch: 4 new weight: [ 3.00373023 -0.2877927 ] loss: 4.89\n",
      "epoch: 5 new weight: [ 3.00463959 -0.34526516] loss: 4.26\n",
      "epoch: 6 new weight: [ 3.00553986 -0.39790012] loss: 3.73\n",
      "epoch: 7 new weight: [ 3.00643113 -0.44610474] loss: 3.28\n",
      "epoch: 8 new weight: [ 3.00731348 -0.49025194] loss: 2.91\n",
      "epoch: 9 new weight: [ 3.00818701 -0.53068324] loss: 2.59\n",
      "epoch: 10 new weight: [ 3.0090518  -0.56771139] loss: 2.33\n",
      "epoch: 11 new weight: [ 3.00990795 -0.60162286] loss: 2.11\n",
      "epoch: 12 new weight: [ 3.01075553 -0.63267997] loss: 1.93\n",
      "epoch: 13 new weight: [ 3.01159464 -0.66112298] loss: 1.77\n",
      "epoch: 14 new weight: [ 3.01242536 -0.68717191] loss: 1.64\n",
      "epoch: 15 new weight: [ 3.01324777 -0.71102828] loss: 1.53\n",
      "epoch: 16 new weight: [ 3.01406195 -0.73287664] loss: 1.44\n",
      "epoch: 17 new weight: [ 3.014868   -0.75288601] loss: 1.36\n",
      "epoch: 18 new weight: [ 3.01566598 -0.77121117] loss: 1.3\n",
      "epoch: 19 new weight: [ 3.01645599 -0.78799388] loss: 1.24\n",
      "epoch: 20 new weight: [ 3.01723809 -0.80336398] loss: 1.2\n",
      "epoch: 21 new weight: [ 3.01801237 -0.81744037] loss: 1.16\n",
      "epoch: 22 new weight: [ 3.01877891 -0.83033194] loss: 1.13\n",
      "epoch: 23 new weight: [ 3.01953779 -0.84213841] loss: 1.1\n",
      "epoch: 24 new weight: [ 3.02028907 -0.85295112] loss: 1.08\n",
      "epoch: 25 new weight: [ 3.02103285 -0.86285371] loss: 1.06\n",
      "epoch: 26 new weight: [ 3.02176918 -0.8719228 ] loss: 1.04\n",
      "epoch: 27 new weight: [ 3.02249815 -0.88022853] loss: 1.03\n",
      "epoch: 28 new weight: [ 3.02321983 -0.88783516] loss: 1.02\n",
      "epoch: 29 new weight: [ 3.0239343  -0.89480154] loss: 1.01\n",
      "epoch: 30 new weight: [ 3.02464162 -0.90118154] loss: 1.0\n",
      "epoch: 31 new weight: [ 3.02534187 -0.90702454] loss: 1.0\n",
      "epoch: 32 new weight: [ 3.02603511 -0.91237573] loss: 0.99\n",
      "epoch: 33 new weight: [ 3.02672143 -0.91727651] loss: 0.99\n",
      "epoch: 34 new weight: [ 3.02740088 -0.92176478] loss: 0.98\n",
      "epoch: 35 new weight: [ 3.02807353 -0.92587527] loss: 0.98\n",
      "epoch: 36 new weight: [ 3.02873946 -0.92963977] loss: 0.98\n",
      "epoch: 37 new weight: [ 3.02939873 -0.93308742] loss: 0.97\n",
      "epoch: 38 new weight: [ 3.0300514  -0.93624487] loss: 0.97\n",
      "epoch: 39 new weight: [ 3.03069755 -0.93913656] loss: 0.97\n",
      "epoch: 40 new weight: [ 3.03133724 -0.94178485] loss: 0.97\n",
      "epoch: 41 new weight: [ 3.03197053 -0.94421024] loss: 0.97\n",
      "epoch: 42 new weight: [ 3.03259749 -0.94643147] loss: 0.97\n",
      "epoch: 43 new weight: [ 3.03321818 -0.94846575] loss: 0.96\n",
      "epoch: 44 new weight: [ 3.03383266 -0.95032879] loss: 0.96\n",
      "epoch: 45 new weight: [ 3.034441   -0.95203503] loss: 0.96\n",
      "epoch: 46 new weight: [ 3.03504325 -0.95359764] loss: 0.96\n",
      "epoch: 47 new weight: [ 3.03563948 -0.95502873] loss: 0.96\n",
      "epoch: 48 new weight: [ 3.03622975 -0.95633937] loss: 0.96\n",
      "epoch: 49 new weight: [ 3.03681412 -0.95753969] loss: 0.96\n",
      "epoch: 50 new weight: [ 3.03739264 -0.95863897] loss: 0.96\n",
      "epoch: 51 new weight: [ 3.03796538 -0.95964573] loss: 0.96\n",
      "epoch: 52 new weight: [ 3.03853239 -0.96056775] loss: 0.96\n",
      "epoch: 53 new weight: [ 3.03909373 -0.96141216] loss: 0.96\n",
      "epoch: 54 new weight: [ 3.03964946 -0.96218549] loss: 0.96\n",
      "epoch: 55 new weight: [ 3.04019962 -0.96289374] loss: 0.96\n",
      "epoch: 56 new weight: [ 3.04074429 -0.96354237] loss: 0.96\n",
      "epoch: 57 new weight: [ 3.04128351 -0.9641364 ] loss: 0.96\n",
      "epoch: 58 new weight: [ 3.04181734 -0.96468044] loss: 0.96\n",
      "epoch: 59 new weight: [ 3.04234583 -0.96517868] loss: 0.96\n",
      "epoch: 60 new weight: [ 3.04286904 -0.96563499] loss: 0.96\n",
      "epoch: 61 new weight: [ 3.04338701 -0.96605288] loss: 0.96\n",
      "epoch: 62 new weight: [ 3.0438998 -0.9664356] loss: 0.96\n",
      "epoch: 63 new weight: [ 3.04440747 -0.96678611] loss: 0.96\n",
      "epoch: 64 new weight: [ 3.04491006 -0.96710712] loss: 0.96\n",
      "epoch: 65 new weight: [ 3.04540762 -0.96740111] loss: 0.96\n",
      "epoch: 66 new weight: [ 3.04590021 -0.96767035] loss: 0.96\n",
      "epoch: 67 new weight: [ 3.04638787 -0.96791693] loss: 0.96\n",
      "epoch: 68 new weight: [ 3.04687066 -0.96814275] loss: 0.96\n",
      "epoch: 69 new weight: [ 3.04734861 -0.96834957] loss: 0.96\n",
      "epoch: 70 new weight: [ 3.04782179 -0.96853898] loss: 0.96\n",
      "epoch: 71 new weight: [ 3.04829024 -0.96871244] loss: 0.96\n",
      "epoch: 72 new weight: [ 3.048754   -0.96887131] loss: 0.96\n",
      "epoch: 73 new weight: [ 3.04921312 -0.9690168 ] loss: 0.96\n",
      "epoch: 74 new weight: [ 3.04966765 -0.96915005] loss: 0.96\n",
      "epoch: 75 new weight: [ 3.05011764 -0.96927208] loss: 0.96\n",
      "epoch: 76 new weight: [ 3.05056313 -0.96938384] loss: 0.96\n",
      "epoch: 77 new weight: [ 3.05100416 -0.96948619] loss: 0.96\n",
      "epoch: 78 new weight: [ 3.05144078 -0.96957993] loss: 0.96\n",
      "epoch: 79 new weight: [ 3.05187304 -0.96966578] loss: 0.96\n",
      "epoch: 80 new weight: [ 3.05230097 -0.9697444 ] loss: 0.96\n"
     ]
    },
    {
     "data": {
      "text/plain": [
       "(array([ 3.05230097, -0.9697444 ]), 0.9586805909375272)"
      ]
     },
     "execution_count": 15,
     "metadata": {},
     "output_type": "execute_result"
    }
   ],
   "source": [
    "lin_reg(x, y, lr=0.005, n_epochs=80)"
   ]
  },
  {
   "cell_type": "code",
   "execution_count": null,
   "id": "f9cbd85c-3e2c-4b97-a0b1-8be7f5de2c4d",
   "metadata": {},
   "outputs": [],
   "source": []
  }
 ],
 "metadata": {
  "kernelspec": {
   "display_name": "Python 3 (ipykernel)",
   "language": "python",
   "name": "python3"
  },
  "language_info": {
   "codemirror_mode": {
    "name": "ipython",
    "version": 3
   },
   "file_extension": ".py",
   "mimetype": "text/x-python",
   "name": "python",
   "nbconvert_exporter": "python",
   "pygments_lexer": "ipython3",
   "version": "3.12.0"
  }
 },
 "nbformat": 4,
 "nbformat_minor": 5
}
